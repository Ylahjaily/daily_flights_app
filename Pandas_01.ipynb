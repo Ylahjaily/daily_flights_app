{
 "cells": [
  {
   "cell_type": "code",
   "execution_count": 1,
   "metadata": {
    "id": "Gl9afww62Ey8"
   },
   "outputs": [
    {
     "name": "stdout",
     "output_type": "stream",
     "text": [
      "Requirement already satisfied: matplotlib in /usr/local/Cellar/jupyterlab/3.0.0_1/libexec/lib/python3.9/site-packages (3.3.4)\n",
      "Requirement already satisfied: pandas in /usr/local/Cellar/jupyterlab/3.0.0_1/libexec/lib/python3.9/site-packages (1.2.3)\n",
      "Requirement already satisfied: pyparsing!=2.0.4,!=2.1.2,!=2.1.6,>=2.0.3 in /usr/local/Cellar/jupyterlab/3.0.0_1/libexec/lib/python3.9/site-packages (from matplotlib) (2.4.7)\n",
      "Requirement already satisfied: numpy>=1.15 in /usr/local/Cellar/jupyterlab/3.0.0_1/libexec/lib/python3.9/site-packages (from matplotlib) (1.20.1)\n",
      "Requirement already satisfied: kiwisolver>=1.0.1 in /usr/local/Cellar/jupyterlab/3.0.0_1/libexec/lib/python3.9/site-packages (from matplotlib) (1.3.1)\n",
      "Requirement already satisfied: pillow>=6.2.0 in /usr/local/Cellar/jupyterlab/3.0.0_1/libexec/lib/python3.9/site-packages (from matplotlib) (8.1.2)\n",
      "Requirement already satisfied: python-dateutil>=2.1 in /usr/local/Cellar/jupyterlab/3.0.0_1/libexec/lib/python3.9/site-packages (from matplotlib) (2.8.1)\n",
      "Requirement already satisfied: cycler>=0.10 in /usr/local/Cellar/jupyterlab/3.0.0_1/libexec/lib/python3.9/site-packages (from matplotlib) (0.10.0)\n",
      "Requirement already satisfied: numpy>=1.15 in /usr/local/Cellar/jupyterlab/3.0.0_1/libexec/lib/python3.9/site-packages (from matplotlib) (1.20.1)\n",
      "Requirement already satisfied: pytz>=2017.3 in /usr/local/Cellar/jupyterlab/3.0.0_1/libexec/lib/python3.9/site-packages (from pandas) (2020.4)\n",
      "Requirement already satisfied: python-dateutil>=2.1 in /usr/local/Cellar/jupyterlab/3.0.0_1/libexec/lib/python3.9/site-packages (from matplotlib) (2.8.1)\n",
      "Requirement already satisfied: six in /usr/local/Cellar/jupyterlab/3.0.0_1/libexec/lib/python3.9/site-packages (from cycler>=0.10->matplotlib) (1.15.0)\n",
      "Requirement already satisfied: six in /usr/local/Cellar/jupyterlab/3.0.0_1/libexec/lib/python3.9/site-packages (from cycler>=0.10->matplotlib) (1.15.0)\n",
      "\u001b[33mWARNING: You are using pip version 20.3.1; however, version 21.0.1 is available.\n",
      "You should consider upgrading via the '/usr/local/Cellar/jupyterlab/3.0.0_1/libexec/bin/python -m pip install --upgrade pip' command.\u001b[0m\n",
      "Note: you may need to restart the kernel to use updated packages.\n"
     ]
    }
   ],
   "source": [
    "pip install matplotlib pandas\n"
   ]
  },
  {
   "cell_type": "code",
   "execution_count": 3,
   "metadata": {
    "id": "TDwirEbO2EzQ"
   },
   "outputs": [],
   "source": [
    "# Render our plots inline\n",
    "%matplotlib inline\n",
    "\n",
    "import pandas as pd\n",
    "import numpy as np\n",
    "import matplotlib.pyplot as plt\n",
    "\n",
    "plt.rcParams['figure.figsize'] = (15, 10)"
   ]
  },
  {
   "cell_type": "markdown",
   "metadata": {
    "id": "mjgrc_xU2EzS"
   },
   "source": [
    "# 1 Charger de la donnée"
   ]
  },
  {
   "cell_type": "markdown",
   "metadata": {
    "id": "EHtwk45c2EzT"
   },
   "source": [
    "Dans ce notebook, nous allons étudier un dataset représentant la fréquentation quotidienne de 7 pistes cyclables Montréalaises en 2012.\n",
    "\n",
    "Charger le dataset bikes.csv en utilisant la méthode `read_csv` de pandas. \n",
    "\n",
    "Jetez un coup d'oeil à la documentation => https://pandas.pydata.org/pandas-docs/stable/reference/api/pandas.read_csv.html"
   ]
  },
  {
   "cell_type": "code",
   "execution_count": 4,
   "metadata": {
    "id": "dkb9qH9m2EzT"
   },
   "outputs": [],
   "source": [
    "df = pd.read_csv(\"/Users/citizen99xyz/workspace/python-labb/WebScrapping/FlightLated/airports.csv\", encoding=\"ISO-8859-1\")"
   ]
  },
  {
   "cell_type": "markdown",
   "metadata": {
    "id": "3QIy1G5Y2EzU"
   },
   "source": [
    "Afficher les 3 premières lignes."
   ]
  },
  {
   "cell_type": "code",
   "execution_count": 5,
   "metadata": {
    "id": "GGfOQNtS2EzV",
    "scrolled": true
   },
   "outputs": [
    {
     "data": {
      "text/html": [
       "<div>\n",
       "<style scoped>\n",
       "    .dataframe tbody tr th:only-of-type {\n",
       "        vertical-align: middle;\n",
       "    }\n",
       "\n",
       "    .dataframe tbody tr th {\n",
       "        vertical-align: top;\n",
       "    }\n",
       "\n",
       "    .dataframe thead th {\n",
       "        text-align: right;\n",
       "    }\n",
       "</style>\n",
       "<table border=\"1\" class=\"dataframe\">\n",
       "  <thead>\n",
       "    <tr style=\"text-align: right;\">\n",
       "      <th></th>\n",
       "      <th>faa</th>\n",
       "      <th>name</th>\n",
       "      <th>lat</th>\n",
       "      <th>lon</th>\n",
       "      <th>alt</th>\n",
       "      <th>tz</th>\n",
       "      <th>dst</th>\n",
       "      <th>tzone</th>\n",
       "    </tr>\n",
       "  </thead>\n",
       "  <tbody>\n",
       "    <tr>\n",
       "      <th>0</th>\n",
       "      <td>04G</td>\n",
       "      <td>Lansdowne Airport</td>\n",
       "      <td>41.130472</td>\n",
       "      <td>-80.619583</td>\n",
       "      <td>1044</td>\n",
       "      <td>-5</td>\n",
       "      <td>A</td>\n",
       "      <td>America/New_York</td>\n",
       "    </tr>\n",
       "    <tr>\n",
       "      <th>1</th>\n",
       "      <td>06A</td>\n",
       "      <td>Moton Field Municipal Airport</td>\n",
       "      <td>32.460572</td>\n",
       "      <td>-85.680028</td>\n",
       "      <td>264</td>\n",
       "      <td>-6</td>\n",
       "      <td>A</td>\n",
       "      <td>America/Chicago</td>\n",
       "    </tr>\n",
       "    <tr>\n",
       "      <th>2</th>\n",
       "      <td>06C</td>\n",
       "      <td>Schaumburg Regional</td>\n",
       "      <td>41.989341</td>\n",
       "      <td>-88.101243</td>\n",
       "      <td>801</td>\n",
       "      <td>-6</td>\n",
       "      <td>A</td>\n",
       "      <td>America/Chicago</td>\n",
       "    </tr>\n",
       "    <tr>\n",
       "      <th>3</th>\n",
       "      <td>06N</td>\n",
       "      <td>Randall Airport</td>\n",
       "      <td>41.431912</td>\n",
       "      <td>-74.391561</td>\n",
       "      <td>523</td>\n",
       "      <td>-5</td>\n",
       "      <td>A</td>\n",
       "      <td>America/New_York</td>\n",
       "    </tr>\n",
       "    <tr>\n",
       "      <th>4</th>\n",
       "      <td>09J</td>\n",
       "      <td>Jekyll Island Airport</td>\n",
       "      <td>31.074472</td>\n",
       "      <td>-81.427778</td>\n",
       "      <td>11</td>\n",
       "      <td>-5</td>\n",
       "      <td>A</td>\n",
       "      <td>America/New_York</td>\n",
       "    </tr>\n",
       "  </tbody>\n",
       "</table>\n",
       "</div>"
      ],
      "text/plain": [
       "   faa                           name        lat        lon   alt  tz dst  \\\n",
       "0  04G              Lansdowne Airport  41.130472 -80.619583  1044  -5   A   \n",
       "1  06A  Moton Field Municipal Airport  32.460572 -85.680028   264  -6   A   \n",
       "2  06C            Schaumburg Regional  41.989341 -88.101243   801  -6   A   \n",
       "3  06N                Randall Airport  41.431912 -74.391561   523  -5   A   \n",
       "4  09J          Jekyll Island Airport  31.074472 -81.427778    11  -5   A   \n",
       "\n",
       "              tzone  \n",
       "0  America/New_York  \n",
       "1   America/Chicago  \n",
       "2   America/Chicago  \n",
       "3  America/New_York  \n",
       "4  America/New_York  "
      ]
     },
     "execution_count": 5,
     "metadata": {},
     "output_type": "execute_result"
    }
   ],
   "source": [
    "df.head()"
   ]
  },
  {
   "cell_type": "markdown",
   "metadata": {
    "id": "kzY4O3um2EzV"
   },
   "source": [
    "Comme on peut le voir, le dataset n'est pas proprement chargé, toutes les colonnes sont reunies en une. Pour arranger ceci, nous allons utiiser quelques arguments de la méthode `read_csv`.\n",
    "\n",
    "* changer le separateur de colonne a `;` avec l'option `sep`\n",
    "* \"Parser\" la collone date avec l'option `parse_date`\n",
    "* Changer les dates pour avoir le jour et non le mois en premier\n",
    "* Definir la colonne 'Date' comme index du dataframe avec `index_col`"
   ]
  },
  {
   "cell_type": "code",
   "execution_count": null,
   "metadata": {
    "id": "xzPRpAt32EzW"
   },
   "outputs": [],
   "source": []
  },
  {
   "cell_type": "markdown",
   "metadata": {
    "id": "tCWMCmUR2EzX"
   },
   "source": [
    "# 1.1 Sélection d'une colonne"
   ]
  },
  {
   "cell_type": "markdown",
   "metadata": {
    "id": "6sNGhC9C2EzY"
   },
   "source": [
    "On peut selectionner une colonne (ou plusieurs) d'un dataframe de la même manière que l'on slectionne une clé dans un dictionnaire :\n",
    "`df['column_name']` or `df[['col1', 'col2', etc]]`\n",
    "\n",
    "Selectionner la colonne 'Berri 1'"
   ]
  },
  {
   "cell_type": "code",
   "execution_count": 87,
   "metadata": {
    "id": "w7R0WHeJ2EzY",
    "scrolled": true
   },
   "outputs": [],
   "source": [
    "cleanedRecord = df[['Game','Europe','Japan','North America','Global']]\n",
    "classifiedRecord = cleanedRecord[0:10]"
   ]
  },
  {
   "cell_type": "markdown",
   "metadata": {
    "id": "43ug6GVv2Ezc"
   },
   "source": [
    "# 1.2 \"Plotter\" une colonne"
   ]
  },
  {
   "cell_type": "markdown",
   "metadata": {
    "id": "9HrXSS6M2Ezg"
   },
   "source": [
    "Utiliser la méthode `.plot()` pour produire une graphique del la frequentation de la piste tout au long de l'année.\n",
    "\n",
    "On remarque sans surprise que peu de gens prennent le vélo en hiver."
   ]
  },
  {
   "cell_type": "code",
   "execution_count": 85,
   "metadata": {
    "id": "UAJtE1Xe2Ezh"
   },
   "outputs": [
    {
     "ename": "ValueError",
     "evalue": "Japan is not a valid plot kind",
     "output_type": "error",
     "traceback": [
      "\u001b[0;31m---------------------------------------------------------------------------\u001b[0m",
      "\u001b[0;31mValueError\u001b[0m                                Traceback (most recent call last)",
      "\u001b[0;32m<ipython-input-85-57094da30267>\u001b[0m in \u001b[0;36m<module>\u001b[0;34m\u001b[0m\n\u001b[0;32m----> 1\u001b[0;31m \u001b[0mclassifiedRecord\u001b[0m\u001b[0;34m.\u001b[0m\u001b[0mplot\u001b[0m\u001b[0;34m(\u001b[0m\u001b[0;34m'Game'\u001b[0m\u001b[0;34m,\u001b[0m\u001b[0;34m'Europe'\u001b[0m\u001b[0;34m,\u001b[0m\u001b[0;34m'Japan'\u001b[0m\u001b[0;34m,\u001b[0m\u001b[0;34m'North America'\u001b[0m\u001b[0;34m,\u001b[0m\u001b[0;34m'Global'\u001b[0m\u001b[0;34m)\u001b[0m\u001b[0;34m\u001b[0m\u001b[0;34m\u001b[0m\u001b[0m\n\u001b[0m",
      "\u001b[0;32m/usr/local/Cellar/jupyterlab/3.0.0_1/libexec/lib/python3.9/site-packages/pandas/plotting/_core.py\u001b[0m in \u001b[0;36m__call__\u001b[0;34m(self, *args, **kwargs)\u001b[0m\n\u001b[1;32m    886\u001b[0m \u001b[0;34m\u001b[0m\u001b[0m\n\u001b[1;32m    887\u001b[0m         \u001b[0;32mif\u001b[0m \u001b[0mkind\u001b[0m \u001b[0;32mnot\u001b[0m \u001b[0;32min\u001b[0m \u001b[0mself\u001b[0m\u001b[0;34m.\u001b[0m\u001b[0m_all_kinds\u001b[0m\u001b[0;34m:\u001b[0m\u001b[0;34m\u001b[0m\u001b[0;34m\u001b[0m\u001b[0m\n\u001b[0;32m--> 888\u001b[0;31m             \u001b[0;32mraise\u001b[0m \u001b[0mValueError\u001b[0m\u001b[0;34m(\u001b[0m\u001b[0;34mf\"{kind} is not a valid plot kind\"\u001b[0m\u001b[0;34m)\u001b[0m\u001b[0;34m\u001b[0m\u001b[0;34m\u001b[0m\u001b[0m\n\u001b[0m\u001b[1;32m    889\u001b[0m \u001b[0;34m\u001b[0m\u001b[0m\n\u001b[1;32m    890\u001b[0m         \u001b[0;31m# The original data structured can be transformed before passed to the\u001b[0m\u001b[0;34m\u001b[0m\u001b[0;34m\u001b[0m\u001b[0;34m\u001b[0m\u001b[0m\n",
      "\u001b[0;31mValueError\u001b[0m: Japan is not a valid plot kind"
     ]
    }
   ],
   "source": [
    "classifiedRecord.plot('Game','Europe','Japan','North America','Global')"
   ]
  },
  {
   "cell_type": "markdown",
   "metadata": {
    "id": "6CqDsBcJ2Ezi"
   },
   "source": [
    "On peut aussi plotter toutes les colonnes du dataframe en utilisant le même mechanisme."
   ]
  },
  {
   "cell_type": "code",
   "execution_count": null,
   "metadata": {
    "id": "R9imSYTH2Ezi",
    "scrolled": true
   },
   "outputs": [],
   "source": [
    "df.plot()"
   ]
  },
  {
   "cell_type": "markdown",
   "metadata": {
    "id": "ImO9SeIZ2Ezj"
   },
   "source": []
  },
  {
   "cell_type": "code",
   "execution_count": null,
   "metadata": {
    "id": "pmaKRGYn2Ezj"
   },
   "outputs": [],
   "source": []
  },
  {
   "cell_type": "markdown",
   "metadata": {
    "id": "XGZ4wHCU2Ezk"
   },
   "source": [
    "# 2 Premières analyses"
   ]
  },
  {
   "cell_type": "markdown",
   "metadata": {
    "id": "jiz1UFiG2Ezk"
   },
   "source": [
    "Dans cette partie nous allons utiliser un nouveau jeu de données plus volumineux, représentant les appels au service 311 de la ville de New York.\n",
    "\n",
    "Charger le fichier '311-service-requests.csv' dans un dataframe pandas."
   ]
  },
  {
   "cell_type": "code",
   "execution_count": 30,
   "metadata": {
    "id": "O8JrdGIR2Ezk"
   },
   "outputs": [
    {
     "name": "stderr",
     "output_type": "stream",
     "text": [
      "/usr/local/Cellar/jupyterlab/3.0.0_1/libexec/lib/python3.9/site-packages/IPython/core/interactiveshell.py:3146: DtypeWarning: Columns (8) have mixed types.Specify dtype option on import or set low_memory=False.\n",
      "  has_raised = await self.run_ast_nodes(code_ast.body, cell_name,\n"
     ]
    }
   ],
   "source": [
    "df = pd.read_csv(\"/Users/citizen99xyz/workspace/python-labb/WEB SCRAPPING/311-service-requests.csv\", encoding=\"ISO-8859-1\")"
   ]
  },
  {
   "cell_type": "markdown",
   "metadata": {
    "id": "0Gw-QwOo2Ezl"
   },
   "source": [
    "# 2.1 Description du df"
   ]
  },
  {
   "cell_type": "markdown",
   "metadata": {
    "id": "jfCStI5b2Ezl"
   },
   "source": [
    "Explore the dataframe set with methods like .info(), .head(), .describe()"
   ]
  },
  {
   "cell_type": "code",
   "execution_count": 23,
   "metadata": {
    "id": "Xj4UHRPL2Ezm"
   },
   "outputs": [
    {
     "data": {
      "text/html": [
       "<div>\n",
       "<style scoped>\n",
       "    .dataframe tbody tr th:only-of-type {\n",
       "        vertical-align: middle;\n",
       "    }\n",
       "\n",
       "    .dataframe tbody tr th {\n",
       "        vertical-align: top;\n",
       "    }\n",
       "\n",
       "    .dataframe thead th {\n",
       "        text-align: right;\n",
       "    }\n",
       "</style>\n",
       "<table border=\"1\" class=\"dataframe\">\n",
       "  <thead>\n",
       "    <tr style=\"text-align: right;\">\n",
       "      <th></th>\n",
       "      <th>Unique Key</th>\n",
       "      <th>X Coordinate (State Plane)</th>\n",
       "      <th>Y Coordinate (State Plane)</th>\n",
       "      <th>School or Citywide Complaint</th>\n",
       "      <th>Latitude</th>\n",
       "      <th>Longitude</th>\n",
       "    </tr>\n",
       "  </thead>\n",
       "  <tbody>\n",
       "    <tr>\n",
       "      <th>count</th>\n",
       "      <td>1.083690e+05</td>\n",
       "      <td>9.599500e+04</td>\n",
       "      <td>95995.000000</td>\n",
       "      <td>0.0</td>\n",
       "      <td>95995.000000</td>\n",
       "      <td>95995.000000</td>\n",
       "    </tr>\n",
       "    <tr>\n",
       "      <th>mean</th>\n",
       "      <td>2.651762e+07</td>\n",
       "      <td>1.004637e+06</td>\n",
       "      <td>205669.244867</td>\n",
       "      <td>NaN</td>\n",
       "      <td>40.731140</td>\n",
       "      <td>-73.926402</td>\n",
       "    </tr>\n",
       "    <tr>\n",
       "      <th>std</th>\n",
       "      <td>4.581237e+04</td>\n",
       "      <td>2.197539e+04</td>\n",
       "      <td>31411.404795</td>\n",
       "      <td>NaN</td>\n",
       "      <td>0.086216</td>\n",
       "      <td>0.079256</td>\n",
       "    </tr>\n",
       "    <tr>\n",
       "      <th>min</th>\n",
       "      <td>2.643349e+07</td>\n",
       "      <td>9.134950e+05</td>\n",
       "      <td>121152.000000</td>\n",
       "      <td>NaN</td>\n",
       "      <td>40.498949</td>\n",
       "      <td>-74.254437</td>\n",
       "    </tr>\n",
       "    <tr>\n",
       "      <th>25%</th>\n",
       "      <td>2.647680e+07</td>\n",
       "      <td>9.921310e+05</td>\n",
       "      <td>182473.500000</td>\n",
       "      <td>NaN</td>\n",
       "      <td>40.667471</td>\n",
       "      <td>-73.971607</td>\n",
       "    </tr>\n",
       "    <tr>\n",
       "      <th>50%</th>\n",
       "      <td>2.651678e+07</td>\n",
       "      <td>1.003397e+06</td>\n",
       "      <td>203207.000000</td>\n",
       "      <td>NaN</td>\n",
       "      <td>40.724433</td>\n",
       "      <td>-73.930874</td>\n",
       "    </tr>\n",
       "    <tr>\n",
       "      <th>75%</th>\n",
       "      <td>2.655771e+07</td>\n",
       "      <td>1.016867e+06</td>\n",
       "      <td>233941.000000</td>\n",
       "      <td>NaN</td>\n",
       "      <td>40.808773</td>\n",
       "      <td>-73.882164</td>\n",
       "    </tr>\n",
       "    <tr>\n",
       "      <th>max</th>\n",
       "      <td>2.659613e+07</td>\n",
       "      <td>1.067024e+06</td>\n",
       "      <td>271485.000000</td>\n",
       "      <td>NaN</td>\n",
       "      <td>40.911792</td>\n",
       "      <td>-73.701278</td>\n",
       "    </tr>\n",
       "  </tbody>\n",
       "</table>\n",
       "</div>"
      ],
      "text/plain": [
       "         Unique Key  X Coordinate (State Plane)  Y Coordinate (State Plane)  \\\n",
       "count  1.083690e+05                9.599500e+04                95995.000000   \n",
       "mean   2.651762e+07                1.004637e+06               205669.244867   \n",
       "std    4.581237e+04                2.197539e+04                31411.404795   \n",
       "min    2.643349e+07                9.134950e+05               121152.000000   \n",
       "25%    2.647680e+07                9.921310e+05               182473.500000   \n",
       "50%    2.651678e+07                1.003397e+06               203207.000000   \n",
       "75%    2.655771e+07                1.016867e+06               233941.000000   \n",
       "max    2.659613e+07                1.067024e+06               271485.000000   \n",
       "\n",
       "       School or Citywide Complaint      Latitude     Longitude  \n",
       "count                           0.0  95995.000000  95995.000000  \n",
       "mean                            NaN     40.731140    -73.926402  \n",
       "std                             NaN      0.086216      0.079256  \n",
       "min                             NaN     40.498949    -74.254437  \n",
       "25%                             NaN     40.667471    -73.971607  \n",
       "50%                             NaN     40.724433    -73.930874  \n",
       "75%                             NaN     40.808773    -73.882164  \n",
       "max                             NaN     40.911792    -73.701278  "
      ]
     },
     "execution_count": 23,
     "metadata": {},
     "output_type": "execute_result"
    }
   ],
   "source": [
    "df.describe()"
   ]
  },
  {
   "cell_type": "markdown",
   "metadata": {
    "id": "vjdVS2Z42Ezn"
   },
   "source": [
    "# 2.2 Sélectionner des colonnes et des lignes"
   ]
  },
  {
   "cell_type": "markdown",
   "metadata": {
    "id": "7ihdy81U2Ezn"
   },
   "source": [
    "Selectionner la colonne 'Complaint Type'."
   ]
  },
  {
   "cell_type": "code",
   "execution_count": 77,
   "metadata": {
    "id": "iTHF5_g32Ezn"
   },
   "outputs": [],
   "source": [
    "complaint = df['Complaint Type']"
   ]
  },
  {
   "cell_type": "code",
   "execution_count": null,
   "metadata": {},
   "outputs": [],
   "source": []
  },
  {
   "cell_type": "markdown",
   "metadata": {
    "id": "pkG79-r_2Ezo"
   },
   "source": [
    "Afficher les 5 premieres ligne de la colonne 'Complaint Type'."
   ]
  },
  {
   "cell_type": "code",
   "execution_count": 78,
   "metadata": {
    "id": "m7H1wrgT2Ezo"
   },
   "outputs": [
    {
     "name": "stdout",
     "output_type": "stream",
     "text": [
      "0         Noise - Street/Sidewalk\n",
      "1                 Illegal Parking\n",
      "2              Noise - Commercial\n",
      "3                 Noise - Vehicle\n",
      "4                          Rodent\n",
      "                   ...           \n",
      "108364           Street Condition\n",
      "108365           Street Condition\n",
      "108366           Street Condition\n",
      "108367           Street Condition\n",
      "108368                        NaN\n",
      "Name: Complaint Type, Length: 108369, dtype: object\n"
     ]
    }
   ],
   "source": [
    "print(complaint)"
   ]
  },
  {
   "cell_type": "markdown",
   "metadata": {
    "id": "VGTsmVJG2Ezo"
   },
   "source": [
    "# Nombre d'aeroport différents"
   ]
  },
  {
   "cell_type": "markdown",
   "metadata": {
    "id": "z_cESk2u2Ezo"
   },
   "source": [
    "Afficher tous les noms de colonnes en utilisant l'attribut columns.values"
   ]
  },
  {
   "cell_type": "code",
   "execution_count": 11,
   "metadata": {
    "id": "G25optrK2Ezp"
   },
   "outputs": [],
   "source": [
    "df.head()\n",
    "airPortFrame = df[['name']]\n",
    "#airPortFrame.count()"
   ]
  },
  {
   "cell_type": "markdown",
   "metadata": {
    "id": "euHfojm12Ezp"
   },
   "source": [
    "Créer un nouveaux dataset en selectionnant les colonnes 'Created Date', 'Closed Date', 'Complaint Type', 'Incident Address' et 'Street Name'"
   ]
  },
  {
   "cell_type": "code",
   "execution_count": 58,
   "metadata": {
    "id": "wua9sRM72Ezp"
   },
   "outputs": [
    {
     "data": {
      "text/plain": [
       "HEATING                   14200\n",
       "GENERAL CONSTRUCTION       7471\n",
       "Street Light Condition     6841\n",
       "DOF Literature Request     5469\n",
       "PLUMBING                   5373\n",
       "                          ...  \n",
       "Snow                          1\n",
       "Ferry Permit                  1\n",
       "Stalled Sites                 1\n",
       "Highway Sign - Damaged        1\n",
       "DWD                           1\n",
       "Name: Complaint Type, Length: 165, dtype: int64"
      ]
     },
     "execution_count": 58,
     "metadata": {},
     "output_type": "execute_result"
    }
   ],
   "source": [
    "newDataSet = df[['Created Date', 'Closed Date', 'Complaint Type', 'Incident Address','Street Name']]\n",
    "newDataSet['Complaint Type'].value_counts()\n"
   ]
  },
  {
   "cell_type": "markdown",
   "metadata": {
    "id": "B9XKaMOV2Ezq"
   },
   "source": [
    "# 2.4 Quelles est la plainte qui revient le plus souvent?"
   ]
  },
  {
   "cell_type": "markdown",
   "metadata": {
    "id": "8UqhuCAX2Ezq"
   },
   "source": [
    "Utiliser la méthode `.value_counts()` pour compter le nombre de plaintes pour chaque type de plainte."
   ]
  },
  {
   "cell_type": "code",
   "execution_count": 65,
   "metadata": {
    "id": "EpjfRhVt2Ezq"
   },
   "outputs": [
    {
     "data": {
      "text/plain": [
       "<AxesSubplot:>"
      ]
     },
     "execution_count": 65,
     "metadata": {},
     "output_type": "execute_result"
    },
    {
     "data": {
      "image/png": "[encoded data removed]",
      "text/plain": [
       "<Figure size 1080x720 with 1 Axes>"
      ]
     },
     "metadata": {
      "needs_background": "light"
     },
     "output_type": "display_data"
    }
   ],
   "source": [
    "newDataSet['Complaint Type'].value_counts().head(10).hist()"
   ]
  },
  {
   "cell_type": "markdown",
   "metadata": {
    "id": "Xgw4E_392Ezr"
   },
   "source": [
    "utiliser la methode .sort() et afficher le top 10 des types de plainte avec le plus d'enregistremments."
   ]
  },
  {
   "cell_type": "code",
   "execution_count": null,
   "metadata": {
    "id": "-VIq2n6u2Ezr"
   },
   "outputs": [],
   "source": [
    "\n"
   ]
  },
  {
   "cell_type": "markdown",
   "metadata": {
    "id": "0BfNmPLb2Ezw"
   },
   "source": [
    "Utiliser la méthose plot() pour produire un graphique en barre de ce top 10."
   ]
  },
  {
   "cell_type": "markdown",
   "metadata": {
    "id": "H8850fwL2Ezx"
   },
   "source": []
  },
  {
   "cell_type": "markdown",
   "metadata": {
    "id": "V8KHSlvT2Ezx"
   },
   "source": [
    "<style>\n",
    "    @font-face {\n",
    "        font-family: \"Computer Modern\";\n",
    "        src: url('http://mirrors.ctan.org/fonts/cm-unicode/fonts/otf/cmunss.otf');\n",
    "    }\n",
    "    div.cell{\n",
    "        width:800px;\n",
    "        margin-left:16% !important;\n",
    "        margin-right:auto;\n",
    "    }\n",
    "    h1 {\n",
    "        font-family: Helvetica, serif;\n",
    "    }\n",
    "    h4{\n",
    "        margin-top:12px;\n",
    "        margin-bottom: 3px;\n",
    "       }\n",
    "    div.text_cell_render{\n",
    "        font-family: Computer Modern, \"Helvetica Neue\", Arial, Helvetica, Geneva, sans-serif;\n",
    "        line-height: 145%;\n",
    "        font-size: 130%;\n",
    "        width:800px;\n",
    "        margin-left:auto;\n",
    "        margin-right:auto;\n",
    "    }\n",
    "    .CodeMirror{\n",
    "            font-family: \"Source Code Pro\", source-code-pro,Consolas, monospace;\n",
    "    }\n",
    "    .text_cell_render h5 {\n",
    "        font-weight: 300;\n",
    "        font-size: 22pt;\n",
    "        color: #4057A1;\n",
    "        font-style: italic;\n",
    "        margin-bottom: .5em;\n",
    "        margin-top: 0.5em;\n",
    "        display: block;\n",
    "    }\n",
    "    \n",
    "    .warning{\n",
    "        color: rgb( 240, 20, 20 )\n",
    "        }  "
   ]
  }
 ],
 "metadata": {
  "colab": {
   "name": "Pandas_01.ipynb",
   "provenance": []
  },
  "kernelspec": {
   "display_name": "Python 3",
   "language": "python",
   "name": "python3"
  },
  "language_info": {
   "codemirror_mode": {
    "name": "ipython",
    "version": 3
   },
   "file_extension": ".py",
   "mimetype": "text/x-python",
   "name": "python",
   "nbconvert_exporter": "python",
   "pygments_lexer": "ipython3",
   "version": "3.9.1"
  }
 },
 "nbformat": 4,
 "nbformat_minor": 1
}
